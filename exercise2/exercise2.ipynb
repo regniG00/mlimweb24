{
 "cells": [
  {
   "cell_type": "code",
   "execution_count": 36,
   "id": "00de0324",
   "metadata": {},
   "outputs": [
    {
     "name": "stdout",
     "output_type": "stream",
     "text": [
      "Noise level  0.5\n",
      "PCA MSE:  [1.670364569124933, 0.5730870809298607, 0.3521204546453268]\n",
      "ICA MSE:  [1.6703645691249331, 0.5730870809298608, 0.3521204546453271]\n",
      "Noise level  1.0\n",
      "PCA MSE:  [0.5401766061270433, 0.05381002246750201, 0.07211557641965624]\n",
      "ICA MSE:  [0.5401766061270434, 0.053810022467501856, 0.07211557641965617]\n",
      "Noise level  1.5\n",
      "PCA MSE:  [1.1039620654329, 0.23767288009452045, 0.8445817559636152]\n",
      "ICA MSE:  [1.1039620654329019, 0.23767288009452056, 0.8445817559636153]\n",
      "Noise level  2.0\n",
      "PCA MSE:  [1.2700631353408178, 0.7870095510853677, 0.706284429634446]\n",
      "ICA MSE:  [1.2700631353408185, 0.7870095510853677, 0.7062844296344454]\n",
      "Noise level  2.5\n",
      "PCA MSE:  [0.7505922294440047, 0.10139395771018476, 0.36134804501309586]\n",
      "ICA MSE:  [0.7505922294440048, 0.10139395771018442, 0.36134804501309564]\n",
      "Noise level  3.0\n",
      "PCA MSE:  [2.0904699238699633, 0.28283101767503055, 0.6273261104112599]\n",
      "ICA MSE:  [2.0904699238699633, 0.2828310176750305, 0.6273261104112596]\n",
      "Noise level  3.5\n",
      "PCA MSE:  [0.39583007669799464, 0.3677904888697849, 0.06462622761329397]\n",
      "ICA MSE:  [0.39583007669799464, 0.36779048886978455, 0.06462622761329388]\n",
      "Noise level  4.0\n",
      "PCA MSE:  [0.3943868543706211, 0.18009901833698672, 0.4254724500427769]\n",
      "ICA MSE:  [0.3943868543706211, 0.18009901833698638, 0.42547245004277634]\n",
      "Noise level  4.5\n",
      "PCA MSE:  [1.770505585717209, 0.4645321427263528, 1.519530305862797]\n",
      "ICA MSE:  [1.770505585717209, 0.46453214272635335, 1.5195303058627982]\n",
      "Noise level  5.0\n",
      "PCA MSE:  [1.1544607532827966, 0.17086529910568354, 0.37352893633107126]\n",
      "ICA MSE:  [1.1544607532827966, 0.17086529910568357, 0.3735289363310721]\n"
     ]
    },
    {
     "name": "stderr",
     "output_type": "stream",
     "text": [
      "/Users/robinthielking/miniconda3/lib/python3.11/site-packages/sklearn/decomposition/_fastica.py:542: FutureWarning: Starting in v1.3, whiten='unit-variance' will be used by default.\n",
      "  warnings.warn(\n",
      "/Users/robinthielking/miniconda3/lib/python3.11/site-packages/sklearn/decomposition/_fastica.py:542: FutureWarning: Starting in v1.3, whiten='unit-variance' will be used by default.\n",
      "  warnings.warn(\n",
      "/Users/robinthielking/miniconda3/lib/python3.11/site-packages/sklearn/decomposition/_fastica.py:542: FutureWarning: Starting in v1.3, whiten='unit-variance' will be used by default.\n",
      "  warnings.warn(\n",
      "/Users/robinthielking/miniconda3/lib/python3.11/site-packages/sklearn/decomposition/_fastica.py:542: FutureWarning: Starting in v1.3, whiten='unit-variance' will be used by default.\n",
      "  warnings.warn(\n",
      "/Users/robinthielking/miniconda3/lib/python3.11/site-packages/sklearn/decomposition/_fastica.py:542: FutureWarning: Starting in v1.3, whiten='unit-variance' will be used by default.\n",
      "  warnings.warn(\n",
      "/Users/robinthielking/miniconda3/lib/python3.11/site-packages/sklearn/decomposition/_fastica.py:542: FutureWarning: Starting in v1.3, whiten='unit-variance' will be used by default.\n",
      "  warnings.warn(\n",
      "/Users/robinthielking/miniconda3/lib/python3.11/site-packages/sklearn/decomposition/_fastica.py:542: FutureWarning: Starting in v1.3, whiten='unit-variance' will be used by default.\n",
      "  warnings.warn(\n",
      "/Users/robinthielking/miniconda3/lib/python3.11/site-packages/sklearn/decomposition/_fastica.py:542: FutureWarning: Starting in v1.3, whiten='unit-variance' will be used by default.\n",
      "  warnings.warn(\n",
      "/Users/robinthielking/miniconda3/lib/python3.11/site-packages/sklearn/decomposition/_fastica.py:542: FutureWarning: Starting in v1.3, whiten='unit-variance' will be used by default.\n",
      "  warnings.warn(\n",
      "/Users/robinthielking/miniconda3/lib/python3.11/site-packages/sklearn/decomposition/_fastica.py:542: FutureWarning: Starting in v1.3, whiten='unit-variance' will be used by default.\n",
      "  warnings.warn(\n"
     ]
    }
   ],
   "source": [
    "import numpy as np\n",
    "from sklearn.decomposition import PCA, FastICA\n",
    "from sklearn.metrics import mean_squared_error\n",
    "\n",
    "def generate_signals(t, noise_level):\n",
    "    n1 = np.random.normal(0, 1, len(t))\n",
    "    n2 = np.random.normal(0, 1, len(t))\n",
    "    n3 = np.random.normal(0, 1, len(t))\n",
    "    f1 = np.sin(t) + 0.001 * n1 * noise_level\n",
    "    f2 = 2 * (t - np.floor(t)) + 0.002 * n2 * noise_level\n",
    "    f3 = 0.01 * t + 0.001 * n3 * noise_level\n",
    "    return np.vstack((f1, f2, f3))\n",
    "\n",
    "# Function to measure recovery accuracy\n",
    "def correlation(true, estimated):\n",
    "    return [pearsonr(true[i], estimated[i])[0] for i in range(3)]\n",
    "\n",
    "for level in np.linspace(0.5, 5, 10):\n",
    "    t = np.linspace(0, 100, 1000)\n",
    "    A = np.random.rand(3, 3)\n",
    "    f = generate_signals(t, level)\n",
    "    x = A @ f\n",
    "    x = x.T\n",
    "\n",
    "    # PCA und ICA\n",
    "    pca = PCA(n_components=3)\n",
    "    ica = FastICA(n_components=3)\n",
    "\n",
    "    # Fit and transform\n",
    "    pca_transformed = pca.fit_transform(x)\n",
    "    ica_transformed = ica.fit_transform(x)\n",
    "\n",
    "    # PCA Reconstruction\n",
    "    pca_reconstructed = pca.inverse_transform(pca_transformed).T\n",
    "\n",
    "    # ICA Reconstruction\n",
    "    ica_reconstructed = ica.inverse_transform(ica_transformed).T\n",
    "\n",
    "    # MSE-Berechnung für jedes Signal\n",
    "    mse_pca = [mean_squared_error(f[i], pca_reconstructed[i]) for i in range(3)]\n",
    "    mse_ica = [mean_squared_error(f[i], ica_reconstructed[i]) for i in range(3)]\n",
    "\n",
    "    print(\"Noise level \", level)\n",
    "    print(\"PCA MSE: \", mse_pca)\n",
    "    print(\"ICA MSE: \", mse_ica)\n"
   ]
  },
  {
   "cell_type": "markdown",
   "id": "430822d3",
   "metadata": {},
   "source": [
    "https://stackoverflow.com/questions/36566844/pca-projection-and-reconstruction-in-scikit-learn"
   ]
  },
  {
   "cell_type": "code",
   "execution_count": null,
   "id": "4893f23b",
   "metadata": {},
   "outputs": [],
   "source": []
  }
 ],
 "metadata": {
  "kernelspec": {
   "display_name": "Python 3 (ipykernel)",
   "language": "python",
   "name": "python3"
  },
  "language_info": {
   "codemirror_mode": {
    "name": "ipython",
    "version": 3
   },
   "file_extension": ".py",
   "mimetype": "text/x-python",
   "name": "python",
   "nbconvert_exporter": "python",
   "pygments_lexer": "ipython3",
   "version": "3.11.5"
  }
 },
 "nbformat": 4,
 "nbformat_minor": 5
}
